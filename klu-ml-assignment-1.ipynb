{
 "cells": [
  {
   "cell_type": "markdown",
   "id": "b96b99aa-0cf7-4af1-9f42-2897576a8c95",
   "metadata": {},
   "source": [
    "## Ranga Bashyam G - M.Sc. Datascience"
   ]
  },
  {
   "cell_type": "markdown",
   "id": "bc461ebb-b8a9-4efc-bec4-c0dfe40ca3bc",
   "metadata": {},
   "source": [
    "#### Q1 . Illustrate the K-means clustering with a suitable identified choice of K for mall-data and  drawing inferences related to the resulting cluster."
   ]
  },
  {
   "cell_type": "markdown",
   "id": "3678cbb4-4d0d-4ad8-9c90-c46a0caf837d",
   "metadata": {},
   "source": [
    "### Import Required Libraries "
   ]
  },
  {
   "cell_type": "code",
   "execution_count": 18,
   "id": "533cd656-ec0f-4601-9a8a-4ade52510f81",
   "metadata": {},
   "outputs": [],
   "source": [
    "import numpy as np\n",
    "import pandas as pd\n",
    "import seaborn as sns\n",
    "import matplotlib as plt\n",
    "import matplotlib.pyplot as plt\n",
    "from sklearn.cluster import KMeans"
   ]
  },
  {
   "cell_type": "markdown",
   "id": "04445f43-2260-4505-98b2-31651349545e",
   "metadata": {},
   "source": [
    "### Load Mall dataset & print .head()"
   ]
  },
  {
   "cell_type": "code",
   "execution_count": 2,
   "id": "88fc0ed4-0fb7-4aa5-9d1b-b4c96a9afee3",
   "metadata": {},
   "outputs": [
    {
     "data": {
      "text/html": [
       "<div>\n",
       "<style scoped>\n",
       "    .dataframe tbody tr th:only-of-type {\n",
       "        vertical-align: middle;\n",
       "    }\n",
       "\n",
       "    .dataframe tbody tr th {\n",
       "        vertical-align: top;\n",
       "    }\n",
       "\n",
       "    .dataframe thead th {\n",
       "        text-align: right;\n",
       "    }\n",
       "</style>\n",
       "<table border=\"1\" class=\"dataframe\">\n",
       "  <thead>\n",
       "    <tr style=\"text-align: right;\">\n",
       "      <th></th>\n",
       "      <th>CustomerID</th>\n",
       "      <th>Genre</th>\n",
       "      <th>Age</th>\n",
       "      <th>Annual Income (k$)</th>\n",
       "      <th>Spending Score (1-100)</th>\n",
       "    </tr>\n",
       "  </thead>\n",
       "  <tbody>\n",
       "    <tr>\n",
       "      <th>0</th>\n",
       "      <td>1</td>\n",
       "      <td>Male</td>\n",
       "      <td>19</td>\n",
       "      <td>15</td>\n",
       "      <td>39</td>\n",
       "    </tr>\n",
       "    <tr>\n",
       "      <th>1</th>\n",
       "      <td>2</td>\n",
       "      <td>Male</td>\n",
       "      <td>21</td>\n",
       "      <td>15</td>\n",
       "      <td>81</td>\n",
       "    </tr>\n",
       "    <tr>\n",
       "      <th>2</th>\n",
       "      <td>3</td>\n",
       "      <td>Female</td>\n",
       "      <td>20</td>\n",
       "      <td>16</td>\n",
       "      <td>6</td>\n",
       "    </tr>\n",
       "    <tr>\n",
       "      <th>3</th>\n",
       "      <td>4</td>\n",
       "      <td>Female</td>\n",
       "      <td>23</td>\n",
       "      <td>16</td>\n",
       "      <td>77</td>\n",
       "    </tr>\n",
       "    <tr>\n",
       "      <th>4</th>\n",
       "      <td>5</td>\n",
       "      <td>Female</td>\n",
       "      <td>31</td>\n",
       "      <td>17</td>\n",
       "      <td>40</td>\n",
       "    </tr>\n",
       "  </tbody>\n",
       "</table>\n",
       "</div>"
      ],
      "text/plain": [
       "   CustomerID   Genre  Age  Annual Income (k$)  Spending Score (1-100)\n",
       "0           1    Male   19                  15                      39\n",
       "1           2    Male   21                  15                      81\n",
       "2           3  Female   20                  16                       6\n",
       "3           4  Female   23                  16                      77\n",
       "4           5  Female   31                  17                      40"
      ]
     },
     "execution_count": 2,
     "metadata": {},
     "output_type": "execute_result"
    }
   ],
   "source": [
    "df = pd.read_csv('Mall_Customers.csv')\n",
    "df.head()"
   ]
  },
  {
   "cell_type": "markdown",
   "id": "bb4d0ebd-e8b5-4323-9dab-6ce467ceb50f",
   "metadata": {},
   "source": [
    "### Use .columns to view all the columns in the dataset"
   ]
  },
  {
   "cell_type": "code",
   "execution_count": 3,
   "id": "b359b062-74e1-4534-9c69-ff71fae49b18",
   "metadata": {},
   "outputs": [
    {
     "data": {
      "text/plain": [
       "Index(['CustomerID', 'Genre', 'Age', 'Annual Income (k$)',\n",
       "       'Spending Score (1-100)'],\n",
       "      dtype='object')"
      ]
     },
     "execution_count": 3,
     "metadata": {},
     "output_type": "execute_result"
    }
   ],
   "source": [
    "df.columns"
   ]
  },
  {
   "cell_type": "markdown",
   "id": "7a7f82f0-a537-4cbd-a0ab-99ad78a13417",
   "metadata": {},
   "source": [
    "### Use .isnull().sum() to viwe the null values"
   ]
  },
  {
   "cell_type": "code",
   "execution_count": 4,
   "id": "b77a6dd9-feaf-44f8-8df0-7ea9e7b49225",
   "metadata": {},
   "outputs": [
    {
     "data": {
      "text/plain": [
       "CustomerID                0\n",
       "Genre                     0\n",
       "Age                       0\n",
       "Annual Income (k$)        0\n",
       "Spending Score (1-100)    0\n",
       "dtype: int64"
      ]
     },
     "execution_count": 4,
     "metadata": {},
     "output_type": "execute_result"
    }
   ],
   "source": [
    "df.isnull().sum()"
   ]
  },
  {
   "cell_type": "markdown",
   "id": "7099e7bc-7608-4552-93e3-132153fc5ea7",
   "metadata": {},
   "source": [
    "## Data Pre-Processing"
   ]
  },
  {
   "cell_type": "markdown",
   "id": "b1bf3e02-83c4-4a14-8ee9-b9d6e9e5e31d",
   "metadata": {},
   "source": [
    "### Drop 'CustomerID' , as it doesnt contribute in the project"
   ]
  },
  {
   "cell_type": "code",
   "execution_count": 5,
   "id": "45702a35-2e72-45ab-88d4-f19a8537dadc",
   "metadata": {},
   "outputs": [
    {
     "data": {
      "text/html": [
       "<div>\n",
       "<style scoped>\n",
       "    .dataframe tbody tr th:only-of-type {\n",
       "        vertical-align: middle;\n",
       "    }\n",
       "\n",
       "    .dataframe tbody tr th {\n",
       "        vertical-align: top;\n",
       "    }\n",
       "\n",
       "    .dataframe thead th {\n",
       "        text-align: right;\n",
       "    }\n",
       "</style>\n",
       "<table border=\"1\" class=\"dataframe\">\n",
       "  <thead>\n",
       "    <tr style=\"text-align: right;\">\n",
       "      <th></th>\n",
       "      <th>Genre</th>\n",
       "      <th>Age</th>\n",
       "      <th>Annual Income (k$)</th>\n",
       "      <th>Spending Score (1-100)</th>\n",
       "    </tr>\n",
       "  </thead>\n",
       "  <tbody>\n",
       "    <tr>\n",
       "      <th>0</th>\n",
       "      <td>Male</td>\n",
       "      <td>19</td>\n",
       "      <td>15</td>\n",
       "      <td>39</td>\n",
       "    </tr>\n",
       "    <tr>\n",
       "      <th>1</th>\n",
       "      <td>Male</td>\n",
       "      <td>21</td>\n",
       "      <td>15</td>\n",
       "      <td>81</td>\n",
       "    </tr>\n",
       "    <tr>\n",
       "      <th>2</th>\n",
       "      <td>Female</td>\n",
       "      <td>20</td>\n",
       "      <td>16</td>\n",
       "      <td>6</td>\n",
       "    </tr>\n",
       "    <tr>\n",
       "      <th>3</th>\n",
       "      <td>Female</td>\n",
       "      <td>23</td>\n",
       "      <td>16</td>\n",
       "      <td>77</td>\n",
       "    </tr>\n",
       "    <tr>\n",
       "      <th>4</th>\n",
       "      <td>Female</td>\n",
       "      <td>31</td>\n",
       "      <td>17</td>\n",
       "      <td>40</td>\n",
       "    </tr>\n",
       "  </tbody>\n",
       "</table>\n",
       "</div>"
      ],
      "text/plain": [
       "    Genre  Age  Annual Income (k$)  Spending Score (1-100)\n",
       "0    Male   19                  15                      39\n",
       "1    Male   21                  15                      81\n",
       "2  Female   20                  16                       6\n",
       "3  Female   23                  16                      77\n",
       "4  Female   31                  17                      40"
      ]
     },
     "execution_count": 5,
     "metadata": {},
     "output_type": "execute_result"
    }
   ],
   "source": [
    "df = df.drop('CustomerID', axis=1)\n",
    "df.head()"
   ]
  },
  {
   "cell_type": "markdown",
   "id": "aaf5f011-7d9c-4000-bd9f-000dca5a5bae",
   "metadata": {},
   "source": [
    "### Encode categorical variables"
   ]
  },
  {
   "cell_type": "code",
   "execution_count": 6,
   "id": "097c664c-48ea-4351-8af1-4163e05212d8",
   "metadata": {},
   "outputs": [
    {
     "data": {
      "text/html": [
       "<div>\n",
       "<style scoped>\n",
       "    .dataframe tbody tr th:only-of-type {\n",
       "        vertical-align: middle;\n",
       "    }\n",
       "\n",
       "    .dataframe tbody tr th {\n",
       "        vertical-align: top;\n",
       "    }\n",
       "\n",
       "    .dataframe thead th {\n",
       "        text-align: right;\n",
       "    }\n",
       "</style>\n",
       "<table border=\"1\" class=\"dataframe\">\n",
       "  <thead>\n",
       "    <tr style=\"text-align: right;\">\n",
       "      <th></th>\n",
       "      <th>Genre</th>\n",
       "      <th>Age</th>\n",
       "      <th>Annual Income (k$)</th>\n",
       "      <th>Spending Score (1-100)</th>\n",
       "    </tr>\n",
       "  </thead>\n",
       "  <tbody>\n",
       "    <tr>\n",
       "      <th>0</th>\n",
       "      <td>0</td>\n",
       "      <td>19</td>\n",
       "      <td>15</td>\n",
       "      <td>39</td>\n",
       "    </tr>\n",
       "    <tr>\n",
       "      <th>1</th>\n",
       "      <td>0</td>\n",
       "      <td>21</td>\n",
       "      <td>15</td>\n",
       "      <td>81</td>\n",
       "    </tr>\n",
       "    <tr>\n",
       "      <th>2</th>\n",
       "      <td>1</td>\n",
       "      <td>20</td>\n",
       "      <td>16</td>\n",
       "      <td>6</td>\n",
       "    </tr>\n",
       "    <tr>\n",
       "      <th>3</th>\n",
       "      <td>1</td>\n",
       "      <td>23</td>\n",
       "      <td>16</td>\n",
       "      <td>77</td>\n",
       "    </tr>\n",
       "    <tr>\n",
       "      <th>4</th>\n",
       "      <td>1</td>\n",
       "      <td>31</td>\n",
       "      <td>17</td>\n",
       "      <td>40</td>\n",
       "    </tr>\n",
       "  </tbody>\n",
       "</table>\n",
       "</div>"
      ],
      "text/plain": [
       "   Genre  Age  Annual Income (k$)  Spending Score (1-100)\n",
       "0      0   19                  15                      39\n",
       "1      0   21                  15                      81\n",
       "2      1   20                  16                       6\n",
       "3      1   23                  16                      77\n",
       "4      1   31                  17                      40"
      ]
     },
     "execution_count": 6,
     "metadata": {},
     "output_type": "execute_result"
    }
   ],
   "source": [
    "# Convert 'Genre' column to numerical values: 'Male' -> 0, 'Female' -> 1\n",
    "df['Genre'] = df['Genre'].map({'Male': 0, 'Female': 1})\n",
    "df.head()"
   ]
  },
  {
   "cell_type": "markdown",
   "id": "a25a5885-7699-477b-b0a4-134c7cec89d9",
   "metadata": {},
   "source": [
    "### Renaming columns - made is easy to call the feature"
   ]
  },
  {
   "cell_type": "code",
   "execution_count": 7,
   "id": "772c4f7c-a1d1-43cc-b250-f17dd546f3a4",
   "metadata": {},
   "outputs": [],
   "source": [
    "df.rename(columns={'Annual Income (k$)': 'annual_income', 'Spending Score (1-100)': 'spending_score'}, inplace=True)"
   ]
  },
  {
   "cell_type": "code",
   "execution_count": 8,
   "id": "e5a875ef-1096-4b46-87b9-26a7b37c5cbb",
   "metadata": {},
   "outputs": [
    {
     "name": "stdout",
     "output_type": "stream",
     "text": [
      "   Genre  Age  annual_income  spending_score\n",
      "0      0   19             15              39\n",
      "1      0   21             15              81\n",
      "2      1   20             16               6\n",
      "3      1   23             16              77\n",
      "4      1   31             17              40\n"
     ]
    }
   ],
   "source": [
    "# Display the first few rows to verify changes\n",
    "print(df.head())"
   ]
  },
  {
   "cell_type": "markdown",
   "id": "4f2e467c-457a-4cec-96e1-25085e2f70a5",
   "metadata": {},
   "source": [
    "### Extracting features for clustering"
   ]
  },
  {
   "cell_type": "code",
   "execution_count": 10,
   "id": "2524c79d-f70d-438f-a24c-bcbbbd024434",
   "metadata": {},
   "outputs": [],
   "source": [
    "X = df[['annual_income', 'spending_score']]"
   ]
  },
  {
   "cell_type": "markdown",
   "id": "08acee53-c4df-43d7-aa13-3d62495a9613",
   "metadata": {},
   "source": [
    "### Finding the optimal number of clusters using the Elbow method"
   ]
  },
  {
   "cell_type": "code",
   "execution_count": 11,
   "id": "a56ec31a-4d56-493d-ade4-29165594aa40",
   "metadata": {},
   "outputs": [],
   "source": [
    "wcss = []\n",
    "for i in range(1, 11):\n",
    "    kmeans = KMeans(n_clusters=i, init='k-means++', max_iter=300, n_init=10, random_state=42)\n",
    "    kmeans.fit(X)\n",
    "    wcss.append(kmeans.inertia_)"
   ]
  },
  {
   "cell_type": "markdown",
   "id": "cfdc3f26-acaf-44c2-8e18-923d91515386",
   "metadata": {},
   "source": [
    "### Plotting the Elbow graph"
   ]
  },
  {
   "cell_type": "code",
   "execution_count": 12,
   "id": "36753d38-3261-4f0e-a35c-00537bd24d4c",
   "metadata": {},
   "outputs": [
    {
     "data": {
      "image/png": "[encoded data removed]",
      "text/plain": [
       "<Figure size 640x480 with 1 Axes>"
      ]
     },
     "metadata": {},
     "output_type": "display_data"
    }
   ],
   "source": [
    "plt.plot(range(1, 11), wcss)\n",
    "plt.title('Elbow Method')\n",
    "plt.xlabel('Number of clusters')\n",
    "plt.ylabel('WCSS')\n",
    "plt.show()"
   ]
  },
  {
   "cell_type": "markdown",
   "id": "e3b3b1ce-412c-4601-b126-625b4c96eee1",
   "metadata": {},
   "source": [
    "### Assuming the elbow point suggests K = 5 as the elbow falls between 4 & 6"
   ]
  },
  {
   "cell_type": "code",
   "execution_count": 13,
   "id": "fd26faca-814a-462b-9830-ccfdb9388aec",
   "metadata": {},
   "outputs": [],
   "source": [
    "kmeans = KMeans(n_clusters=5, init='k-means++', max_iter=300, n_init=10, random_state=42)\n",
    "y_kmeans = kmeans.fit_predict(X)"
   ]
  },
  {
   "cell_type": "markdown",
   "id": "89666bd8-95a7-4d0f-a267-168ce49557f5",
   "metadata": {},
   "source": [
    "### Adding the cluster labels to the original dataframe"
   ]
  },
  {
   "cell_type": "code",
   "execution_count": 14,
   "id": "5442af3a-23d5-48d4-8421-fcc98919ed0e",
   "metadata": {},
   "outputs": [],
   "source": [
    "df['cluster'] = y_kmeans"
   ]
  },
  {
   "cell_type": "code",
   "execution_count": 16,
   "id": "7daecf69-39bb-430a-a985-bb56982a2888",
   "metadata": {},
   "outputs": [
    {
     "name": "stdout",
     "output_type": "stream",
     "text": [
      "   Genre  Age  annual_income  spending_score  cluster\n",
      "0      0   19             15              39        4\n",
      "1      0   21             15              81        2\n",
      "2      1   20             16               6        4\n",
      "3      1   23             16              77        2\n",
      "4      1   31             17              40        4\n"
     ]
    }
   ],
   "source": [
    "# Display the first few rows to see the cluster assignments\n",
    "print(df.head())"
   ]
  },
  {
   "cell_type": "markdown",
   "id": "1e23d02c-86da-4793-a822-057c37cd6949",
   "metadata": {},
   "source": [
    "### Visualizing the clusters"
   ]
  },
  {
   "cell_type": "code",
   "execution_count": 16,
   "id": "46b2e81f-0574-47a2-bd9c-3e304928aeaa",
   "metadata": {},
   "outputs": [
    {
     "data": {
      "image/png": "[encoded data removed]",
      "text/plain": [
       "<Figure size 1000x600 with 1 Axes>"
      ]
     },
     "metadata": {},
     "output_type": "display_data"
    }
   ],
   "source": [
    "plt.figure(figsize=(10, 6))\n",
    "plt.scatter(X.values[y_kmeans == 0, 0], X.values[y_kmeans == 0, 1], s=100, c='red', label='cluster 1')\n",
    "plt.scatter(X.values[y_kmeans == 1, 0], X.values[y_kmeans == 1, 1], s=100, c='blue', label='cluster 2')\n",
    "plt.scatter(X.values[y_kmeans == 2, 0], X.values[y_kmeans == 2, 1], s=100, c='green', label='cluster 3')\n",
    "plt.scatter(X.values[y_kmeans == 3, 0], X.values[y_kmeans == 3, 1], s=100, c='cyan', label='cluster 4')\n",
    "plt.scatter(X.values[y_kmeans == 4, 0], X.values[y_kmeans == 4, 1], s=100, c='magenta', label='cluster 5')\n",
    "\n",
    "#Plotting the centroids of the clusters\n",
    "plt.scatter(kmeans.cluster_centers_[:, 0], kmeans.cluster_centers_[:, 1], s=300, c='yellow', label='Centroids')\n",
    "\n",
    "plt.title('Clusters of customers')\n",
    "plt.xlabel('Annual Income (k$)')\n",
    "plt.ylabel('Spending Score (1-100)')\n",
    "plt.legend()\n",
    "plt.show()"
   ]
  },
  {
   "cell_type": "markdown",
   "id": "7192bdbf-8eda-4a3a-bfb7-05931cb299eb",
   "metadata": {},
   "source": [
    "## Silhouette Score Interpretation\n",
    "\n",
    "- **Close to +1**: Indicates that the sample is far away from the neighboring clusters, indicating good clustering.\n",
    "- **Close to 0**: Indicates that the sample is on or very close to the decision boundary between two neighboring clusters.\n",
    "- **Negative Values**: Indicate that samples might have been assigned to the wrong cluster.\n"
   ]
  },
  {
   "cell_type": "code",
   "execution_count": 17,
   "id": "93393c92-7b32-496c-890c-95b572c4aa28",
   "metadata": {},
   "outputs": [
    {
     "name": "stdout",
     "output_type": "stream",
     "text": [
      "The average silhouette score for the clustering is: 0.553931997444648\n"
     ]
    }
   ],
   "source": [
    "from sklearn.metrics import silhouette_score\n",
    "\n",
    "# Calculate the silhouette score\n",
    "silhouette_avg = silhouette_score(X, y_kmeans)\n",
    "print(f\"The average silhouette score for the clustering is: {silhouette_avg}\")"
   ]
  },
  {
   "cell_type": "markdown",
   "id": "bcfbd0c7-41ea-49da-b3b5-dfdcaccf3f9d",
   "metadata": {},
   "source": [
    "### Conclusion\n",
    "\n",
    "- **Moderately Good Clustering**: A silhouette score of approximately 0.55 suggests that the clusters are reasonably well-defined. While the score isn't extremely high (close to +1), it still indicates that most samples are closer to their own cluster's centroid than to the centroids of other clusters.\n",
    "\n",
    "- **Distinct Cluster Formation**: The score above 0.5 generally implies that the clusters are distinct, with clear separations between them. However, there might still be some overlap or boundary cases where samples lie close to the decision boundaries between clusters.\n"
   ]
  },
  {
   "cell_type": "code",
   "execution_count": null,
   "id": "4180af8c-8306-4930-b47e-0d26a686d4b0",
   "metadata": {},
   "outputs": [],
   "source": []
  },
  {
   "cell_type": "code",
   "execution_count": null,
   "id": "a4de40e2-27d8-45b1-b86a-ba6d23d27518",
   "metadata": {},
   "outputs": [],
   "source": []
  }
 ],
 "metadata": {
  "kernelspec": {
   "display_name": "Python 3 (ipykernel)",
   "language": "python",
   "name": "python3"
  },
  "language_info": {
   "codemirror_mode": {
    "name": "ipython",
    "version": 3
   },
   "file_extension": ".py",
   "mimetype": "text/x-python",
   "name": "python",
   "nbconvert_exporter": "python",
   "pygments_lexer": "ipython3",
   "version": "3.10.12"
  }
 },
 "nbformat": 4,
 "nbformat_minor": 5
}
